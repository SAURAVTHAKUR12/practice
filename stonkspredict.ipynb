{
  "nbformat": 4,
  "nbformat_minor": 0,
  "metadata": {
    "colab": {
      "name": "stonkspredict.ipynb",
      "provenance": [],
      "authorship_tag": "ABX9TyOMh+pxk+KIihUrTQOh/ZMt",
      "include_colab_link": true
    },
    "kernelspec": {
      "name": "python3",
      "display_name": "Python 3"
    }
  },
  "cells": [
    {
      "cell_type": "markdown",
      "metadata": {
        "id": "view-in-github",
        "colab_type": "text"
      },
      "source": [
        "<a href=\"https://colab.research.google.com/github/SAURAVTHAKUR12/practice/blob/master/stonkspredict.ipynb\" target=\"_parent\"><img src=\"https://colab.research.google.com/assets/colab-badge.svg\" alt=\"Open In Colab\"/></a>"
      ]
    },
    {
      "cell_type": "code",
      "metadata": {
        "id": "nOFEzvtnOS2f",
        "colab_type": "code",
        "outputId": "bfa7de90-a1d7-485d-882c-2aed52641202",
        "colab": {
          "base_uri": "https://localhost:8080/",
          "height": 34
        }
      },
      "source": [
        "try:\n",
        "  # %tensorflow_version only exists in Colab.\n",
        "  %tensorflow_version 2.x\n",
        "except Exception:\n",
        "  pass\n",
        "import tensorflow as tf\n",
        "\n",
        "from tensorflow import keras\n",
        "from tensorflow.keras import layers\n",
        "\n",
        "print(tf.__version__)\n",
        "import numpy as np\n",
        "import matplotlib.pyplot as plt\n",
        "import seaborn as sns\n"
      ],
      "execution_count": 29,
      "outputs": [
        {
          "output_type": "stream",
          "text": [
            "2.1.0\n"
          ],
          "name": "stdout"
        }
      ]
    },
    {
      "cell_type": "code",
      "metadata": {
        "id": "w-qdPI32llKB",
        "colab_type": "code",
        "outputId": "a4e56095-65d3-40c0-b6d2-aa3bd0818250",
        "colab": {
          "base_uri": "https://localhost:8080/",
          "height": 255
        }
      },
      "source": [
        "!pip install git+https://github.com/tensorflow/docs"
      ],
      "execution_count": 30,
      "outputs": [
        {
          "output_type": "stream",
          "text": [
            "Collecting git+https://github.com/tensorflow/docs\n",
            "  Cloning https://github.com/tensorflow/docs to /tmp/pip-req-build-ubp64r6s\n",
            "  Running command git clone -q https://github.com/tensorflow/docs /tmp/pip-req-build-ubp64r6s\n",
            "Requirement already satisfied (use --upgrade to upgrade): tensorflow-docs==0.0.0 from git+https://github.com/tensorflow/docs in /usr/local/lib/python3.6/dist-packages\n",
            "Requirement already satisfied: astor in /usr/local/lib/python3.6/dist-packages (from tensorflow-docs==0.0.0) (0.8.1)\n",
            "Requirement already satisfied: absl-py in /usr/local/lib/python3.6/dist-packages (from tensorflow-docs==0.0.0) (0.9.0)\n",
            "Requirement already satisfied: six in /usr/local/lib/python3.6/dist-packages (from tensorflow-docs==0.0.0) (1.12.0)\n",
            "Requirement already satisfied: pathlib2 in /usr/local/lib/python3.6/dist-packages (from tensorflow-docs==0.0.0) (2.3.5)\n",
            "Requirement already satisfied: pyyaml in /usr/local/lib/python3.6/dist-packages (from tensorflow-docs==0.0.0) (3.13)\n",
            "Building wheels for collected packages: tensorflow-docs\n",
            "  Building wheel for tensorflow-docs (setup.py) ... \u001b[?25l\u001b[?25hdone\n",
            "  Created wheel for tensorflow-docs: filename=tensorflow_docs-0.0.0-cp36-none-any.whl size=80383 sha256=de14df391da88e4f2a4beeb620f8350c85b146d8885c62c95e78603fa791c9c2\n",
            "  Stored in directory: /tmp/pip-ephem-wheel-cache-74oaifcn/wheels/eb/1b/35/fce87697be00d2fc63e0b4b395b0d9c7e391a10e98d9a0d97f\n",
            "Successfully built tensorflow-docs\n"
          ],
          "name": "stdout"
        }
      ]
    },
    {
      "cell_type": "code",
      "metadata": {
        "id": "wd6kFxwhlqMn",
        "colab_type": "code",
        "colab": {}
      },
      "source": [
        "import tensorflow_docs as tfdocs\n",
        "import tensorflow_docs.plots\n",
        "import tensorflow_docs.modeling\n",
        "import pandas as pd \n"
      ],
      "execution_count": 0,
      "outputs": []
    },
    {
      "cell_type": "code",
      "metadata": {
        "id": "1xZ4adF-aYdx",
        "colab_type": "code",
        "colab": {}
      },
      "source": [
        "# Define a dictionary containing trade data \n",
        "data = {'dollar': [72,71,78,79,73,74,78,80,83,81,78,79,83,85,87,85], \n",
        "        'trade deficit(m$)': [100,98,102,102,94,98,103,110,112,109,106,105,100,94,89,105]} \n",
        "  \n",
        "# Convert the dictionary into DataFrame \n",
        "df = pd.DataFrame(data) "
      ],
      "execution_count": 0,
      "outputs": []
    },
    {
      "cell_type": "code",
      "metadata": {
        "id": "HXvcqeQSbjoD",
        "colab_type": "code",
        "outputId": "7ce81294-4ce9-4bdc-fdcf-de4b7299a5b3",
        "colab": {
          "base_uri": "https://localhost:8080/",
          "height": 545
        }
      },
      "source": [
        "# Declare a list that is to be converted into a column \n",
        "stocks = [231,232,212,209,241,234,214,210,200,195,199,200,189,175,151,199] \n",
        "  \n",
        "# Using 'Address' as the column name \n",
        "# and equating it to the list \n",
        "df['stocks'] = stocks \n",
        "  \n",
        "# Observe the result \n",
        "df "
      ],
      "execution_count": 132,
      "outputs": [
        {
          "output_type": "execute_result",
          "data": {
            "text/html": [
              "<div>\n",
              "<style scoped>\n",
              "    .dataframe tbody tr th:only-of-type {\n",
              "        vertical-align: middle;\n",
              "    }\n",
              "\n",
              "    .dataframe tbody tr th {\n",
              "        vertical-align: top;\n",
              "    }\n",
              "\n",
              "    .dataframe thead th {\n",
              "        text-align: right;\n",
              "    }\n",
              "</style>\n",
              "<table border=\"1\" class=\"dataframe\">\n",
              "  <thead>\n",
              "    <tr style=\"text-align: right;\">\n",
              "      <th></th>\n",
              "      <th>dollar</th>\n",
              "      <th>trade deficit(m$)</th>\n",
              "      <th>stocks</th>\n",
              "    </tr>\n",
              "  </thead>\n",
              "  <tbody>\n",
              "    <tr>\n",
              "      <th>0</th>\n",
              "      <td>72</td>\n",
              "      <td>100</td>\n",
              "      <td>231</td>\n",
              "    </tr>\n",
              "    <tr>\n",
              "      <th>1</th>\n",
              "      <td>71</td>\n",
              "      <td>98</td>\n",
              "      <td>232</td>\n",
              "    </tr>\n",
              "    <tr>\n",
              "      <th>2</th>\n",
              "      <td>78</td>\n",
              "      <td>102</td>\n",
              "      <td>212</td>\n",
              "    </tr>\n",
              "    <tr>\n",
              "      <th>3</th>\n",
              "      <td>79</td>\n",
              "      <td>102</td>\n",
              "      <td>209</td>\n",
              "    </tr>\n",
              "    <tr>\n",
              "      <th>4</th>\n",
              "      <td>73</td>\n",
              "      <td>94</td>\n",
              "      <td>241</td>\n",
              "    </tr>\n",
              "    <tr>\n",
              "      <th>5</th>\n",
              "      <td>74</td>\n",
              "      <td>98</td>\n",
              "      <td>234</td>\n",
              "    </tr>\n",
              "    <tr>\n",
              "      <th>6</th>\n",
              "      <td>78</td>\n",
              "      <td>103</td>\n",
              "      <td>214</td>\n",
              "    </tr>\n",
              "    <tr>\n",
              "      <th>7</th>\n",
              "      <td>80</td>\n",
              "      <td>110</td>\n",
              "      <td>210</td>\n",
              "    </tr>\n",
              "    <tr>\n",
              "      <th>8</th>\n",
              "      <td>83</td>\n",
              "      <td>112</td>\n",
              "      <td>200</td>\n",
              "    </tr>\n",
              "    <tr>\n",
              "      <th>9</th>\n",
              "      <td>81</td>\n",
              "      <td>109</td>\n",
              "      <td>195</td>\n",
              "    </tr>\n",
              "    <tr>\n",
              "      <th>10</th>\n",
              "      <td>78</td>\n",
              "      <td>106</td>\n",
              "      <td>199</td>\n",
              "    </tr>\n",
              "    <tr>\n",
              "      <th>11</th>\n",
              "      <td>79</td>\n",
              "      <td>105</td>\n",
              "      <td>200</td>\n",
              "    </tr>\n",
              "    <tr>\n",
              "      <th>12</th>\n",
              "      <td>83</td>\n",
              "      <td>100</td>\n",
              "      <td>189</td>\n",
              "    </tr>\n",
              "    <tr>\n",
              "      <th>13</th>\n",
              "      <td>85</td>\n",
              "      <td>94</td>\n",
              "      <td>175</td>\n",
              "    </tr>\n",
              "    <tr>\n",
              "      <th>14</th>\n",
              "      <td>87</td>\n",
              "      <td>89</td>\n",
              "      <td>151</td>\n",
              "    </tr>\n",
              "    <tr>\n",
              "      <th>15</th>\n",
              "      <td>85</td>\n",
              "      <td>105</td>\n",
              "      <td>199</td>\n",
              "    </tr>\n",
              "  </tbody>\n",
              "</table>\n",
              "</div>"
            ],
            "text/plain": [
              "    dollar  trade deficit(m$)  stocks\n",
              "0       72                100     231\n",
              "1       71                 98     232\n",
              "2       78                102     212\n",
              "3       79                102     209\n",
              "4       73                 94     241\n",
              "5       74                 98     234\n",
              "6       78                103     214\n",
              "7       80                110     210\n",
              "8       83                112     200\n",
              "9       81                109     195\n",
              "10      78                106     199\n",
              "11      79                105     200\n",
              "12      83                100     189\n",
              "13      85                 94     175\n",
              "14      87                 89     151\n",
              "15      85                105     199"
            ]
          },
          "metadata": {
            "tags": []
          },
          "execution_count": 132
        }
      ]
    },
    {
      "cell_type": "code",
      "metadata": {
        "id": "4Y70f03ycS-J",
        "colab_type": "code",
        "colab": {}
      },
      "source": [
        "train_dataset = df.sample(frac=0.6,random_state=0)\n",
        "test_dataset = df.drop(train_dataset.index)\n",
        "# train_dataset = df[:8]\n",
        "# test_dataset = df[8:]"
      ],
      "execution_count": 0,
      "outputs": []
    },
    {
      "cell_type": "code",
      "metadata": {
        "id": "ZyIENnIedSbC",
        "colab_type": "code",
        "colab": {}
      },
      "source": [
        "train_labels = train_dataset.pop('dollar')\n",
        "test_labels = test_dataset.pop('dollar')"
      ],
      "execution_count": 0,
      "outputs": []
    },
    {
      "cell_type": "code",
      "metadata": {
        "id": "oUAPYfsEpN8B",
        "colab_type": "code",
        "colab": {}
      },
      "source": [
        "# def norm(x):\n",
        "#   return (x - train_stats['mean']) / train_stats['std']\n",
        "# normed_train_data = norm(train_dataset)\n",
        "# normed_test_data = norm(test_dataset)"
      ],
      "execution_count": 0,
      "outputs": []
    },
    {
      "cell_type": "code",
      "metadata": {
        "id": "POckCOIDdI2y",
        "colab_type": "code",
        "colab": {}
      },
      "source": [
        "def build_model():\n",
        "  model = keras.Sequential([\n",
        "    layers.Dense(8, activation='relu', input_shape=[len(train_dataset.keys())]),\n",
        "    layers.Dense(8, activation='relu'),\n",
        "    layers.Dense(1)\n",
        "  ])\n",
        "\n",
        "  optimizer = tf.keras.optimizers.RMSprop(0.001)\n",
        "\n",
        "  model.compile(loss='mse',\n",
        "                optimizer=optimizer,\n",
        "                metrics=['mae', 'mse'])\n",
        "  return model"
      ],
      "execution_count": 0,
      "outputs": []
    },
    {
      "cell_type": "code",
      "metadata": {
        "id": "f57cFejMdOKy",
        "colab_type": "code",
        "colab": {}
      },
      "source": [
        "model = build_model()"
      ],
      "execution_count": 0,
      "outputs": []
    },
    {
      "cell_type": "code",
      "metadata": {
        "id": "ReVhu1jodQA6",
        "colab_type": "code",
        "outputId": "91b19157-9dcb-48df-a054-cb86e4135d19",
        "colab": {
          "base_uri": "https://localhost:8080/",
          "height": 255
        }
      },
      "source": [
        "model.summary()"
      ],
      "execution_count": 138,
      "outputs": [
        {
          "output_type": "stream",
          "text": [
            "Model: \"sequential_7\"\n",
            "_________________________________________________________________\n",
            "Layer (type)                 Output Shape              Param #   \n",
            "=================================================================\n",
            "dense_21 (Dense)             (None, 8)                 24        \n",
            "_________________________________________________________________\n",
            "dense_22 (Dense)             (None, 8)                 72        \n",
            "_________________________________________________________________\n",
            "dense_23 (Dense)             (None, 1)                 9         \n",
            "=================================================================\n",
            "Total params: 105\n",
            "Trainable params: 105\n",
            "Non-trainable params: 0\n",
            "_________________________________________________________________\n"
          ],
          "name": "stdout"
        }
      ]
    },
    {
      "cell_type": "code",
      "metadata": {
        "id": "FWCMUu9ppTlS",
        "colab_type": "code",
        "outputId": "d0c8b661-9c28-4525-ff43-9095fa823d39",
        "colab": {
          "base_uri": "https://localhost:8080/",
          "height": 187
        }
      },
      "source": [
        "example_batch = train_dataset\n",
        "example_result = model.predict(example_batch)\n",
        "example_result"
      ],
      "execution_count": 139,
      "outputs": [
        {
          "output_type": "execute_result",
          "data": {
            "text/plain": [
              "array([[5.9601107],\n",
              "       [5.150146 ],\n",
              "       [4.379237 ],\n",
              "       [4.275273 ],\n",
              "       [3.9421332],\n",
              "       [6.4064555],\n",
              "       [5.1030455],\n",
              "       [3.1838884],\n",
              "       [4.507348 ],\n",
              "       [4.807769 ]], dtype=float32)"
            ]
          },
          "metadata": {
            "tags": []
          },
          "execution_count": 139
        }
      ]
    },
    {
      "cell_type": "code",
      "metadata": {
        "id": "n60m8UysdfpS",
        "colab_type": "code",
        "outputId": "8931aff0-808f-48d9-e493-ac0c88d199d8",
        "colab": {
          "base_uri": "https://localhost:8080/",
          "height": 1000
        }
      },
      "source": [
        "EPOCHS = 3000\n",
        "\n",
        "history = model.fit(\n",
        "  train_dataset, train_labels,\n",
        "  epochs=EPOCHS, validation_split = 0.2, verbose=0,\n",
        "  callbacks=[tfdocs.modeling.EpochDots()])"
      ],
      "execution_count": 140,
      "outputs": [
        {
          "output_type": "stream",
          "text": [
            "\n",
            "Epoch: 0, loss:5618.6729,  mae:74.7000,  mse:5618.6729,  val_loss:5341.4756,  val_mae:73.0808,  val_mse:5341.4756,  \n",
            "....................................................................................................\n",
            "Epoch: 100, loss:745.8195,  mae:24.7564,  mse:745.8195,  val_loss:513.3818,  val_mae:22.6538,  val_mse:513.3818,  \n",
            "....................................................................................................\n",
            "Epoch: 200, loss:176.7068,  mae:10.6570,  mse:176.7068,  val_loss:2.4125,  val_mae:1.2182,  val_mse:2.4125,  \n",
            "....................................................................................................\n",
            "Epoch: 300, loss:133.0872,  mae:8.7751,  mse:133.0872,  val_loss:8.6088,  val_mae:2.8063,  val_mse:8.6088,  \n",
            "....................................................................................................\n",
            "Epoch: 400, loss:96.5957,  mae:7.2250,  mse:96.5957,  val_loss:18.9354,  val_mae:4.2891,  val_mse:18.9354,  \n",
            "....................................................................................................\n",
            "Epoch: 500, loss:67.9456,  mae:6.1678,  mse:67.9456,  val_loss:36.0984,  val_mae:5.9790,  val_mse:36.0984,  \n",
            "....................................................................................................\n",
            "Epoch: 600, loss:54.5774,  mae:5.5584,  mse:54.5774,  val_loss:51.0938,  val_mae:7.1332,  val_mse:51.0938,  \n",
            "....................................................................................................\n",
            "Epoch: 700, loss:49.5057,  mae:5.2854,  mse:49.5057,  val_loss:61.3984,  val_mae:7.8276,  val_mse:61.3984,  \n",
            "....................................................................................................\n",
            "Epoch: 800, loss:47.8786,  mae:5.2149,  mse:47.8786,  val_loss:63.4062,  val_mae:7.9577,  val_mse:63.4062,  \n",
            "....................................................................................................\n",
            "Epoch: 900, loss:47.0538,  mae:5.2350,  mse:47.0538,  val_loss:63.1874,  val_mae:7.9458,  val_mse:63.1874,  \n",
            "....................................................................................................\n",
            "Epoch: 1000, loss:46.5603,  mae:5.3258,  mse:46.5603,  val_loss:63.0027,  val_mae:7.9352,  val_mse:63.0027,  \n",
            "....................................................................................................\n",
            "Epoch: 1100, loss:46.2097,  mae:5.3760,  mse:46.2097,  val_loss:62.7807,  val_mae:7.9218,  val_mse:62.7807,  \n",
            "....................................................................................................\n",
            "Epoch: 1200, loss:45.9140,  mae:5.3998,  mse:45.9140,  val_loss:62.5414,  val_mae:7.9070,  val_mse:62.5414,  \n",
            "....................................................................................................\n",
            "Epoch: 1300, loss:45.6384,  mae:5.4080,  mse:45.6384,  val_loss:62.2947,  val_mae:7.8916,  val_mse:62.2947,  \n",
            "....................................................................................................\n",
            "Epoch: 1400, loss:45.3703,  mae:5.4071,  mse:45.3703,  val_loss:62.0437,  val_mae:7.8759,  val_mse:62.0437,  \n",
            "....................................................................................................\n",
            "Epoch: 1500, loss:45.1055,  mae:5.4013,  mse:45.1055,  val_loss:61.7919,  val_mae:7.8600,  val_mse:61.7919,  \n",
            "....................................................................................................\n",
            "Epoch: 1600, loss:44.8429,  mae:5.3928,  mse:44.8429,  val_loss:61.5444,  val_mae:7.8444,  val_mse:61.5444,  \n",
            "....................................................................................................\n",
            "Epoch: 1700, loss:44.5813,  mae:5.3827,  mse:44.5813,  val_loss:61.2957,  val_mae:7.8286,  val_mse:61.2957,  \n",
            "....................................................................................................\n",
            "Epoch: 1800, loss:44.3208,  mae:5.3719,  mse:44.3208,  val_loss:61.0500,  val_mae:7.8130,  val_mse:61.0500,  \n",
            "....................................................................................................\n",
            "Epoch: 1900, loss:44.0612,  mae:5.3605,  mse:44.0612,  val_loss:60.8071,  val_mae:7.7975,  val_mse:60.8071,  \n",
            "....................................................................................................\n",
            "Epoch: 2000, loss:43.8020,  mae:5.3490,  mse:43.8020,  val_loss:60.5645,  val_mae:7.7820,  val_mse:60.5645,  \n",
            "....................................................................................................\n",
            "Epoch: 2100, loss:43.5437,  mae:5.3373,  mse:43.5437,  val_loss:60.3254,  val_mae:7.7667,  val_mse:60.3254,  \n",
            "....................................................................................................\n",
            "Epoch: 2200, loss:43.2860,  mae:5.3256,  mse:43.2860,  val_loss:60.0881,  val_mae:7.7514,  val_mse:60.0881,  \n",
            "....................................................................................................\n",
            "Epoch: 2300, loss:43.0285,  mae:5.3137,  mse:43.0285,  val_loss:59.8514,  val_mae:7.7362,  val_mse:59.8514,  \n",
            "....................................................................................................\n",
            "Epoch: 2400, loss:42.7716,  mae:5.3019,  mse:42.7716,  val_loss:59.6182,  val_mae:7.7211,  val_mse:59.6182,  \n",
            "....................................................................................................\n",
            "Epoch: 2500, loss:42.5149,  mae:5.2900,  mse:42.5149,  val_loss:59.3855,  val_mae:7.7061,  val_mse:59.3855,  \n",
            "....................................................................................................\n",
            "Epoch: 2600, loss:42.2587,  mae:5.2781,  mse:42.2587,  val_loss:59.1553,  val_mae:7.6912,  val_mse:59.1553,  \n",
            "....................................................................................................\n",
            "Epoch: 2700, loss:42.0025,  mae:5.2662,  mse:42.0025,  val_loss:58.9265,  val_mae:7.6763,  val_mse:58.9265,  \n",
            "....................................................................................................\n",
            "Epoch: 2800, loss:41.7466,  mae:5.2542,  mse:41.7466,  val_loss:58.6986,  val_mae:7.6615,  val_mse:58.6986,  \n",
            "....................................................................................................\n",
            "Epoch: 2900, loss:41.4906,  mae:5.2422,  mse:41.4906,  val_loss:58.4720,  val_mae:7.6467,  val_mse:58.4720,  \n",
            "...................................................................................................."
          ],
          "name": "stdout"
        }
      ]
    },
    {
      "cell_type": "code",
      "metadata": {
        "id": "npTZLp3rfQBg",
        "colab_type": "code",
        "outputId": "52ee9302-4561-4227-de67-80337c16baaa",
        "colab": {
          "base_uri": "https://localhost:8080/",
          "height": 204
        }
      },
      "source": [
        "hist = pd.DataFrame(history.history)\n",
        "hist['epoch'] = history.epoch\n",
        "hist.tail()\n"
      ],
      "execution_count": 141,
      "outputs": [
        {
          "output_type": "execute_result",
          "data": {
            "text/html": [
              "<div>\n",
              "<style scoped>\n",
              "    .dataframe tbody tr th:only-of-type {\n",
              "        vertical-align: middle;\n",
              "    }\n",
              "\n",
              "    .dataframe tbody tr th {\n",
              "        vertical-align: top;\n",
              "    }\n",
              "\n",
              "    .dataframe thead th {\n",
              "        text-align: right;\n",
              "    }\n",
              "</style>\n",
              "<table border=\"1\" class=\"dataframe\">\n",
              "  <thead>\n",
              "    <tr style=\"text-align: right;\">\n",
              "      <th></th>\n",
              "      <th>loss</th>\n",
              "      <th>mae</th>\n",
              "      <th>mse</th>\n",
              "      <th>val_loss</th>\n",
              "      <th>val_mae</th>\n",
              "      <th>val_mse</th>\n",
              "      <th>epoch</th>\n",
              "    </tr>\n",
              "  </thead>\n",
              "  <tbody>\n",
              "    <tr>\n",
              "      <th>2995</th>\n",
              "      <td>41.247540</td>\n",
              "      <td>4.968670</td>\n",
              "      <td>41.247540</td>\n",
              "      <td>35.359894</td>\n",
              "      <td>5.946316</td>\n",
              "      <td>35.359894</td>\n",
              "      <td>2995</td>\n",
              "    </tr>\n",
              "    <tr>\n",
              "      <th>2996</th>\n",
              "      <td>41.245052</td>\n",
              "      <td>5.230709</td>\n",
              "      <td>41.245052</td>\n",
              "      <td>58.257057</td>\n",
              "      <td>7.632629</td>\n",
              "      <td>58.257057</td>\n",
              "      <td>2996</td>\n",
              "    </tr>\n",
              "    <tr>\n",
              "      <th>2997</th>\n",
              "      <td>41.242516</td>\n",
              "      <td>4.968359</td>\n",
              "      <td>41.242516</td>\n",
              "      <td>35.355507</td>\n",
              "      <td>5.945946</td>\n",
              "      <td>35.355507</td>\n",
              "      <td>2997</td>\n",
              "    </tr>\n",
              "    <tr>\n",
              "      <th>2998</th>\n",
              "      <td>41.239990</td>\n",
              "      <td>5.230468</td>\n",
              "      <td>41.239990</td>\n",
              "      <td>58.252747</td>\n",
              "      <td>7.632347</td>\n",
              "      <td>58.252747</td>\n",
              "      <td>2998</td>\n",
              "    </tr>\n",
              "    <tr>\n",
              "      <th>2999</th>\n",
              "      <td>41.237396</td>\n",
              "      <td>4.968038</td>\n",
              "      <td>41.237396</td>\n",
              "      <td>35.350433</td>\n",
              "      <td>5.945518</td>\n",
              "      <td>35.350433</td>\n",
              "      <td>2999</td>\n",
              "    </tr>\n",
              "  </tbody>\n",
              "</table>\n",
              "</div>"
            ],
            "text/plain": [
              "           loss       mae        mse   val_loss   val_mae    val_mse  epoch\n",
              "2995  41.247540  4.968670  41.247540  35.359894  5.946316  35.359894   2995\n",
              "2996  41.245052  5.230709  41.245052  58.257057  7.632629  58.257057   2996\n",
              "2997  41.242516  4.968359  41.242516  35.355507  5.945946  35.355507   2997\n",
              "2998  41.239990  5.230468  41.239990  58.252747  7.632347  58.252747   2998\n",
              "2999  41.237396  4.968038  41.237396  35.350433  5.945518  35.350433   2999"
            ]
          },
          "metadata": {
            "tags": []
          },
          "execution_count": 141
        }
      ]
    },
    {
      "cell_type": "code",
      "metadata": {
        "id": "c9JwwIGqgQqi",
        "colab_type": "code",
        "outputId": "5e9f9f83-ea89-47a5-e142-059d74f6b2f6",
        "colab": {
          "base_uri": "https://localhost:8080/",
          "height": 119
        }
      },
      "source": [
        "model.predict(test_dataset)"
      ],
      "execution_count": 142,
      "outputs": [
        {
          "output_type": "execute_result",
          "data": {
            "text/plain": [
              "array([[73.06524 ],\n",
              "       [76.7491  ],\n",
              "       [72.33912 ],\n",
              "       [82.55163 ],\n",
              "       [79.445496],\n",
              "       [82.804115]], dtype=float32)"
            ]
          },
          "metadata": {
            "tags": []
          },
          "execution_count": 142
        }
      ]
    },
    {
      "cell_type": "code",
      "metadata": {
        "id": "ERb2aP1boTZJ",
        "colab_type": "code",
        "colab": {}
      },
      "source": [
        "plotter = tfdocs.plots.HistoryPlotter(smoothing_std=2)"
      ],
      "execution_count": 0,
      "outputs": []
    },
    {
      "cell_type": "code",
      "metadata": {
        "id": "IlfjhWLVp1Ld",
        "colab_type": "code",
        "outputId": "1ffa3876-94e4-43ec-f957-961e0d61db61",
        "colab": {
          "base_uri": "https://localhost:8080/",
          "height": 300
        }
      },
      "source": [
        "plotter.plot({'Basic': history}, metric = \"mae\")\n",
        "plt.ylim([0, 10])\n",
        "plt.ylabel('MAE [dollar]')"
      ],
      "execution_count": 144,
      "outputs": [
        {
          "output_type": "execute_result",
          "data": {
            "text/plain": [
              "Text(0, 0.5, 'MAE [dollar]')"
            ]
          },
          "metadata": {
            "tags": []
          },
          "execution_count": 144
        },
        {
          "output_type": "display_data",
          "data": {
            "image/png": "[encoded data removed]",
            "text/plain": [
              "<Figure size 432x288 with 1 Axes>"
            ]
          },
          "metadata": {
            "tags": []
          }
        }
      ]
    },
    {
      "cell_type": "code",
      "metadata": {
        "id": "UgpGJ0G0p5Tv",
        "colab_type": "code",
        "outputId": "702c0090-c407-43bf-94f4-5a2b1a94879a",
        "colab": {
          "base_uri": "https://localhost:8080/",
          "height": 283
        }
      },
      "source": [
        "test_predictions = model.predict(test_dataset).flatten()\n",
        "\n",
        "a = plt.axes(aspect='equal')\n",
        "plt.scatter(test_labels, test_predictions)\n",
        "plt.xlabel('True Values [MPG]')\n",
        "plt.ylabel('Predictions [MPG]')\n",
        "lims = [0, 50]\n",
        "plt.xlim(lims)\n",
        "plt.ylim(lims)\n",
        "_ = plt.plot(lims, lims)"
      ],
      "execution_count": 145,
      "outputs": [
        {
          "output_type": "display_data",
          "data": {
            "image/png": "[encoded data removed]",
            "text/plain": [
              "<Figure size 432x288 with 1 Axes>"
            ]
          },
          "metadata": {
            "tags": []
          }
        }
      ]
    },
    {
      "cell_type": "code",
      "metadata": {
        "id": "EiS06epSqGIf",
        "colab_type": "code",
        "outputId": "82c8c5e4-e982-460d-f4cb-e9f498389908",
        "colab": {
          "base_uri": "https://localhost:8080/",
          "height": 279
        }
      },
      "source": [
        "error = test_predictions - test_labels\n",
        "plt.hist(error, bins = 25)\n",
        "plt.xlabel(\"Prediction Error [MPG]\")\n",
        "_ = plt.ylabel(\"Count\")"
      ],
      "execution_count": 146,
      "outputs": [
        {
          "output_type": "display_data",
          "data": {
            "image/png": "[encoded data removed]",
            "text/plain": [
              "<Figure size 432x288 with 1 Axes>"
            ]
          },
          "metadata": {
            "tags": []
          }
        }
      ]
    },
    {
      "cell_type": "code",
      "metadata": {
        "id": "OYmM_80aySQx",
        "colab_type": "code",
        "colab": {
          "base_uri": "https://localhost:8080/",
          "height": 235
        },
        "outputId": "2896b64c-4dcf-4728-f16e-d71a74beb2ef"
      },
      "source": [
        "test_dataset"
      ],
      "execution_count": 147,
      "outputs": [
        {
          "output_type": "execute_result",
          "data": {
            "text/html": [
              "<div>\n",
              "<style scoped>\n",
              "    .dataframe tbody tr th:only-of-type {\n",
              "        vertical-align: middle;\n",
              "    }\n",
              "\n",
              "    .dataframe tbody tr th {\n",
              "        vertical-align: top;\n",
              "    }\n",
              "\n",
              "    .dataframe thead th {\n",
              "        text-align: right;\n",
              "    }\n",
              "</style>\n",
              "<table border=\"1\" class=\"dataframe\">\n",
              "  <thead>\n",
              "    <tr style=\"text-align: right;\">\n",
              "      <th></th>\n",
              "      <th>trade deficit(m$)</th>\n",
              "      <th>stocks</th>\n",
              "    </tr>\n",
              "  </thead>\n",
              "  <tbody>\n",
              "    <tr>\n",
              "      <th>0</th>\n",
              "      <td>100</td>\n",
              "      <td>231</td>\n",
              "    </tr>\n",
              "    <tr>\n",
              "      <th>3</th>\n",
              "      <td>102</td>\n",
              "      <td>209</td>\n",
              "    </tr>\n",
              "    <tr>\n",
              "      <th>5</th>\n",
              "      <td>98</td>\n",
              "      <td>234</td>\n",
              "    </tr>\n",
              "    <tr>\n",
              "      <th>11</th>\n",
              "      <td>105</td>\n",
              "      <td>200</td>\n",
              "    </tr>\n",
              "    <tr>\n",
              "      <th>12</th>\n",
              "      <td>100</td>\n",
              "      <td>189</td>\n",
              "    </tr>\n",
              "    <tr>\n",
              "      <th>15</th>\n",
              "      <td>105</td>\n",
              "      <td>199</td>\n",
              "    </tr>\n",
              "  </tbody>\n",
              "</table>\n",
              "</div>"
            ],
            "text/plain": [
              "    trade deficit(m$)  stocks\n",
              "0                 100     231\n",
              "3                 102     209\n",
              "5                  98     234\n",
              "11                105     200\n",
              "12                100     189\n",
              "15                105     199"
            ]
          },
          "metadata": {
            "tags": []
          },
          "execution_count": 147
        }
      ]
    },
    {
      "cell_type": "code",
      "metadata": {
        "id": "GmvRfL2FydCf",
        "colab_type": "code",
        "colab": {
          "base_uri": "https://localhost:8080/",
          "height": 136
        },
        "outputId": "03c9a279-a873-4e30-d390-0e5a840a1095"
      },
      "source": [
        "test_labels"
      ],
      "execution_count": 148,
      "outputs": [
        {
          "output_type": "execute_result",
          "data": {
            "text/plain": [
              "0     72\n",
              "3     79\n",
              "5     74\n",
              "11    79\n",
              "12    83\n",
              "15    85\n",
              "Name: dollar, dtype: int64"
            ]
          },
          "metadata": {
            "tags": []
          },
          "execution_count": 148
        }
      ]
    },
    {
      "cell_type": "code",
      "metadata": {
        "id": "_V7OFZ9aylDo",
        "colab_type": "code",
        "colab": {
          "base_uri": "https://localhost:8080/",
          "height": 51
        },
        "outputId": "fd680b8b-1de4-474f-e82f-eb0a081b0592"
      },
      "source": [
        "test_predictions"
      ],
      "execution_count": 149,
      "outputs": [
        {
          "output_type": "execute_result",
          "data": {
            "text/plain": [
              "array([73.06524 , 76.7491  , 72.33912 , 82.55163 , 79.445496, 82.804115],\n",
              "      dtype=float32)"
            ]
          },
          "metadata": {
            "tags": []
          },
          "execution_count": 149
        }
      ]
    },
    {
      "cell_type": "code",
      "metadata": {
        "id": "PRJ7odK8y8g4",
        "colab_type": "code",
        "colab": {}
      },
      "source": [
        ""
      ],
      "execution_count": 0,
      "outputs": []
    }
  ]
}